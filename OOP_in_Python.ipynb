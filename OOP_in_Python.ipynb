{
  "cells": [
    {
      "cell_type": "code",
      "execution_count": null,
      "metadata": {
        "colab": {
          "base_uri": "https://localhost:8080/"
        },
        "collapsed": true,
        "id": "anABTYEHBJ9V",
        "outputId": "d9c17693-f825-4a9b-88c8-19127dc8c3b7"
      },
      "outputs": [],
      "source": [
        "class Animal:\n",
        "    def __init__(self, name):\n",
        "        self.name = name\n",
        "\n",
        "    def eat(self):\n",
        "        print(f\"{self.name} is eating.\")\n",
        "\n",
        "    def sleep(self):\n",
        "        print(f\"{self.name} is sleeping.\")\n",
        "\n",
        "\n",
        "class Dog(Animal):\n",
        "    def bark(self):\n",
        "        print(f\"{self.name} is barking.\")\n",
        "\n",
        "\n",
        "class Cat(Animal):\n",
        "    def meow(self):\n",
        "        print(f\"{self.name} is meowing.\")\n",
        "\n",
        "dog = Dog(\"Rocky\")\n",
        "cat = Cat(\"Tom\")\n",
        "dog.eat()\n",
        "dog.sleep()\n",
        "dog.bark()\n",
        "cat.eat()\n",
        "cat.sleep()\n",
        "cat.meow()"
      ]
    }
  ],
  "metadata": {
    "colab": {
      "provenance": []
    },
    "kernelspec": {
      "display_name": "Python 3",
      "name": "python3"
    },
    "language_info": {
      "name": "python"
    }
  },
  "nbformat": 4,
  "nbformat_minor": 0
}
